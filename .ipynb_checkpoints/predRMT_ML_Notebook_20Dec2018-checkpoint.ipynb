{
 "cells": [
  {
   "cell_type": "markdown",
   "metadata": {},
   "source": [
    "# Increased Confidence in Metabolite Identity from CE-MS through Migration Time Prediction by Machine Learning with Scikit-Learn\n",
    "---\n",
    "\n",
    "> 20-December-2018\n",
    "\n",
    "\n",
    "> Michael Loewen & Bill Zizek\n",
    "\n",
    "\n",
    "> SCS 3253\n",
    "--- \n",
    "## Introduction\n",
    "**Capillary Electrophoresis (CE) - Mass Spectrometry (MS)** is a multi-dimensional analytical separation instrument used for analysis of biological samples among others. Upon injection, a current is applied and compounds within samples are separated as they migrate through the capillary by their respective electrophoretic mobility differences before reaching a time-of-flight (TOF) mass detector. In spite of CE-MS being a highly accurate and robust detection method, ambient and human variables can cause the same compound to migrate at different times despite otherwise identical conditions. This variability has no impact on the detection and quantification of compounds. However, dependable known migration times through a predictive model empowers replacement of expensive chemical standards through higher confidence of compound identification by additional evidence to accurate mass and isotopic pattern information and thus increases the value of datasets containing unknowns. With multiple experimental runs, there may be multiple instances of a compound and recorded migration times. This dynamic experimental data is annotated with relevant physicochemical properties and miscellaneous metadata to provide context to produced machine learning results. For respective compounds, chemical databases can be used to extract properties to perform calculations for relevant features such as effective mobility, molecular volume, and absolute compound mobility. Following training and profiling of model performance, further annotation to chemical compound classes can give context to results stemming from the model.\n",
    "\n",
    "## Goal\n",
    "\n",
    "This experiment aims to explore:\n",
    "\n",
    "1. Using four independent variables (1. m/z, 2. pKa, 3. logP, and 4. Van der Waals molecular volume) can we predict a drug's relative migration time (FPhe_RMT)?\n",
    "2. Can a machine learning algorithm improve accuracy in predicting FPhe_RMT over a standard linear regression approach?\n",
    "3. Can we use machine learning to classify general drug classes using the aforementioned independent variables in question #1?\n",
    "\n",
    "## Variables\n",
    "\n",
    "`Experiment #` is a unique identifier corresponding to instrumental data acquisition. Each \"experiment\" takes 30-45 minutes and contains data for many different compounds. The experimental data captured per `Experiment #` is a measurd `m/z` value, `MT_sec`, and many other data points not relevant to the scope of this study.\n",
    "\n",
    "`m/z` is a compound's mass-to-charge ratio (observed mass divided by charge number). In this study, each `Compound` has it's own respective `m/z` value but in practice many compounds can have the same `m/z` value.\n",
    "\n",
    "`Compound` is a name identifier for drug compounds in this study. Compound identity has been confirmed already by `m/z`, relative migration time, and comigrating internal standards for unambiguous ID.\n",
    "\n",
    "`MT_sec` is the migration time of a compound's peaks measured in seconds.\n",
    "\n",
    "`FPhe_RMT` is a ratiometric calculation per `Experiment #`. A respective compounds `MT_sec` is divided by the `MT_sec` of F-Phe within the corresponding `Experiment #`.\n",
    "\n",
    "`Drug Class` is a family classification that relates to the respective `Compound`.\n",
    "\n",
    "`Monoisotopic Mass` is the sum of the masses of the atoms in a molecule using the unbound, ground-state, rest mass of the principal (most abundant) isotope.\n",
    "\n",
    "`pKa`, `logP`, and `Van der Waals volume` are physicochemical properties pertinent to the theory of Capillary Electrophoresis that contribute to differences in compound migration time.\n",
    "\n",
    "---"
   ]
  },
  {
   "cell_type": "markdown",
   "metadata": {},
   "source": [
    "## Data Import and Exploratory Inspection"
   ]
  },
  {
   "cell_type": "code",
   "execution_count": 1,
   "metadata": {},
   "outputs": [
    {
     "data": {
      "text/html": [
       "<div>\n",
       "<style scoped>\n",
       "    .dataframe tbody tr th:only-of-type {\n",
       "        vertical-align: middle;\n",
       "    }\n",
       "\n",
       "    .dataframe tbody tr th {\n",
       "        vertical-align: top;\n",
       "    }\n",
       "\n",
       "    .dataframe thead th {\n",
       "        text-align: right;\n",
       "    }\n",
       "</style>\n",
       "<table border=\"1\" class=\"dataframe\">\n",
       "  <thead>\n",
       "    <tr style=\"text-align: right;\">\n",
       "      <th></th>\n",
       "      <th>Experiment #</th>\n",
       "      <th>m/z</th>\n",
       "      <th>Compound</th>\n",
       "      <th>MT_sec</th>\n",
       "      <th>FPhe_RMT</th>\n",
       "      <th>Drug Class</th>\n",
       "      <th>pKa</th>\n",
       "      <th>logP</th>\n",
       "      <th>Van der Waals volume</th>\n",
       "    </tr>\n",
       "  </thead>\n",
       "  <tbody>\n",
       "    <tr>\n",
       "      <th>0</th>\n",
       "      <td>1</td>\n",
       "      <td>141.1435</td>\n",
       "      <td>Amphetamine-d5</td>\n",
       "      <td>944.70</td>\n",
       "      <td>0.796207</td>\n",
       "      <td>Internal Standard</td>\n",
       "      <td>10.01</td>\n",
       "      <td>1.80</td>\n",
       "      <td>144.86</td>\n",
       "    </tr>\n",
       "    <tr>\n",
       "      <th>1</th>\n",
       "      <td>1</td>\n",
       "      <td>172.1332</td>\n",
       "      <td>Gabapentin</td>\n",
       "      <td>1018.32</td>\n",
       "      <td>0.858255</td>\n",
       "      <td>Other</td>\n",
       "      <td>9.91</td>\n",
       "      <td>-1.27</td>\n",
       "      <td>176.16</td>\n",
       "    </tr>\n",
       "    <tr>\n",
       "      <th>2</th>\n",
       "      <td>1</td>\n",
       "      <td>177.1022</td>\n",
       "      <td>Cotinine</td>\n",
       "      <td>967.56</td>\n",
       "      <td>0.815474</td>\n",
       "      <td>Other</td>\n",
       "      <td>4.79</td>\n",
       "      <td>0.21</td>\n",
       "      <td>165.31</td>\n",
       "    </tr>\n",
       "    <tr>\n",
       "      <th>3</th>\n",
       "      <td>1</td>\n",
       "      <td>178.1226</td>\n",
       "      <td>Mephedrone</td>\n",
       "      <td>1000.38</td>\n",
       "      <td>0.843135</td>\n",
       "      <td>Amphetamine</td>\n",
       "      <td>8.05</td>\n",
       "      <td>2.12</td>\n",
       "      <td>181.62</td>\n",
       "    </tr>\n",
       "    <tr>\n",
       "      <th>4</th>\n",
       "      <td>1</td>\n",
       "      <td>184.0768</td>\n",
       "      <td>F-Phe</td>\n",
       "      <td>1186.50</td>\n",
       "      <td>1.000000</td>\n",
       "      <td>Internal Standard</td>\n",
       "      <td>9.45</td>\n",
       "      <td>-1.04</td>\n",
       "      <td>160.46</td>\n",
       "    </tr>\n",
       "  </tbody>\n",
       "</table>\n",
       "</div>"
      ],
      "text/plain": [
       "   Experiment #       m/z        Compound   MT_sec  FPhe_RMT  \\\n",
       "0             1  141.1435  Amphetamine-d5   944.70  0.796207   \n",
       "1             1  172.1332      Gabapentin  1018.32  0.858255   \n",
       "2             1  177.1022        Cotinine   967.56  0.815474   \n",
       "3             1  178.1226      Mephedrone  1000.38  0.843135   \n",
       "4             1  184.0768           F-Phe  1186.50  1.000000   \n",
       "\n",
       "          Drug Class    pKa  logP  Van der Waals volume  \n",
       "0  Internal Standard  10.01  1.80                144.86  \n",
       "1              Other   9.91 -1.27                176.16  \n",
       "2              Other   4.79  0.21                165.31  \n",
       "3        Amphetamine   8.05  2.12                181.62  \n",
       "4  Internal Standard   9.45 -1.04                160.46  "
      ]
     },
     "execution_count": 1,
     "metadata": {},
     "output_type": "execute_result"
    }
   ],
   "source": [
    "import pandas as pd\n",
    "data = pd.read_csv(\"./data/MT_data.csv\")\n",
    "data.head()"
   ]
  },
  {
   "cell_type": "markdown",
   "metadata": {},
   "source": [
    "![CompoundRMT Boxplot](./figures/compoundRMT_boxplot_clean.png)"
   ]
  },
  {
   "cell_type": "code",
   "execution_count": 2,
   "metadata": {},
   "outputs": [
    {
     "data": {
      "text/plain": [
       "6-acetylmorphine    27\n",
       "Venlafaxine         27\n",
       "Flurazepam          27\n",
       "F-Phe               27\n",
       "Mephedrone          27\n",
       "Propoxyphene        27\n",
       "Methylone           27\n",
       "Naloxone            27\n",
       "Trazadone           27\n",
       "Imipramine          27\n",
       "Name: Compound, dtype: int64"
      ]
     },
     "execution_count": 2,
     "metadata": {},
     "output_type": "execute_result"
    }
   ],
   "source": [
    "data['Compound'].value_counts().head(10)"
   ]
  },
  {
   "cell_type": "code",
   "execution_count": 3,
   "metadata": {},
   "outputs": [
    {
     "data": {
      "text/plain": [
       "57"
      ]
     },
     "execution_count": 3,
     "metadata": {},
     "output_type": "execute_result"
    }
   ],
   "source": [
    "data['Compound'].nunique()"
   ]
  },
  {
   "cell_type": "code",
   "execution_count": 4,
   "metadata": {},
   "outputs": [
    {
     "data": {
      "text/plain": [
       "Opioid               512\n",
       "Antidepressants      281\n",
       "Sedative             189\n",
       "Anesthetic           148\n",
       "Other                122\n",
       "Amphetamine          108\n",
       "Stimulant             81\n",
       "Internal Standard     54\n",
       "Name: Drug Class, dtype: int64"
      ]
     },
     "execution_count": 4,
     "metadata": {},
     "output_type": "execute_result"
    }
   ],
   "source": [
    "data['Drug Class'].value_counts()"
   ]
  },
  {
   "cell_type": "markdown",
   "metadata": {},
   "source": [
    "![drugClassRMT Boxplot](./figures/drugClassRMT_box.png)"
   ]
  },
  {
   "cell_type": "code",
   "execution_count": 5,
   "metadata": {},
   "outputs": [
    {
     "data": {
      "text/html": [
       "<div>\n",
       "<style scoped>\n",
       "    .dataframe tbody tr th:only-of-type {\n",
       "        vertical-align: middle;\n",
       "    }\n",
       "\n",
       "    .dataframe tbody tr th {\n",
       "        vertical-align: top;\n",
       "    }\n",
       "\n",
       "    .dataframe thead th {\n",
       "        text-align: right;\n",
       "    }\n",
       "</style>\n",
       "<table border=\"1\" class=\"dataframe\">\n",
       "  <thead>\n",
       "    <tr style=\"text-align: right;\">\n",
       "      <th></th>\n",
       "      <th>m/z</th>\n",
       "      <th>pKa</th>\n",
       "      <th>logP</th>\n",
       "      <th>Van der Waals volume</th>\n",
       "    </tr>\n",
       "  </thead>\n",
       "  <tbody>\n",
       "    <tr>\n",
       "      <th>count</th>\n",
       "      <td>1495.000000</td>\n",
       "      <td>1495.000000</td>\n",
       "      <td>1495.000000</td>\n",
       "      <td>1495.000000</td>\n",
       "    </tr>\n",
       "    <tr>\n",
       "      <th>mean</th>\n",
       "      <td>275.311918</td>\n",
       "      <td>8.425967</td>\n",
       "      <td>2.477358</td>\n",
       "      <td>258.485766</td>\n",
       "    </tr>\n",
       "    <tr>\n",
       "      <th>std</th>\n",
       "      <td>54.764365</td>\n",
       "      <td>2.254504</td>\n",
       "      <td>1.538750</td>\n",
       "      <td>48.712283</td>\n",
       "    </tr>\n",
       "    <tr>\n",
       "      <th>min</th>\n",
       "      <td>141.143500</td>\n",
       "      <td>2.650000</td>\n",
       "      <td>-1.350000</td>\n",
       "      <td>144.860000</td>\n",
       "    </tr>\n",
       "    <tr>\n",
       "      <th>25%</th>\n",
       "      <td>238.099300</td>\n",
       "      <td>8.050000</td>\n",
       "      <td>1.470000</td>\n",
       "      <td>233.740000</td>\n",
       "    </tr>\n",
       "    <tr>\n",
       "      <th>50%</th>\n",
       "      <td>282.087300</td>\n",
       "      <td>9.120000</td>\n",
       "      <td>2.530000</td>\n",
       "      <td>265.010000</td>\n",
       "    </tr>\n",
       "    <tr>\n",
       "      <th>75%</th>\n",
       "      <td>308.175700</td>\n",
       "      <td>9.760000</td>\n",
       "      <td>3.820000</td>\n",
       "      <td>285.750000</td>\n",
       "    </tr>\n",
       "    <tr>\n",
       "      <th>max</th>\n",
       "      <td>399.227800</td>\n",
       "      <td>13.780000</td>\n",
       "      <td>5.010000</td>\n",
       "      <td>376.570000</td>\n",
       "    </tr>\n",
       "  </tbody>\n",
       "</table>\n",
       "</div>"
      ],
      "text/plain": [
       "               m/z          pKa         logP  Van der Waals volume\n",
       "count  1495.000000  1495.000000  1495.000000           1495.000000\n",
       "mean    275.311918     8.425967     2.477358            258.485766\n",
       "std      54.764365     2.254504     1.538750             48.712283\n",
       "min     141.143500     2.650000    -1.350000            144.860000\n",
       "25%     238.099300     8.050000     1.470000            233.740000\n",
       "50%     282.087300     9.120000     2.530000            265.010000\n",
       "75%     308.175700     9.760000     3.820000            285.750000\n",
       "max     399.227800    13.780000     5.010000            376.570000"
      ]
     },
     "execution_count": 5,
     "metadata": {},
     "output_type": "execute_result"
    }
   ],
   "source": [
    "X = data[['m/z', 'pKa','logP', 'Van der Waals volume']] \n",
    "X.describe()"
   ]
  },
  {
   "cell_type": "code",
   "execution_count": 6,
   "metadata": {},
   "outputs": [
    {
     "data": {
      "text/html": [
       "<div>\n",
       "<style scoped>\n",
       "    .dataframe tbody tr th:only-of-type {\n",
       "        vertical-align: middle;\n",
       "    }\n",
       "\n",
       "    .dataframe tbody tr th {\n",
       "        vertical-align: top;\n",
       "    }\n",
       "\n",
       "    .dataframe thead th {\n",
       "        text-align: right;\n",
       "    }\n",
       "</style>\n",
       "<table border=\"1\" class=\"dataframe\">\n",
       "  <thead>\n",
       "    <tr style=\"text-align: right;\">\n",
       "      <th></th>\n",
       "      <th>FPhe_RMT</th>\n",
       "    </tr>\n",
       "  </thead>\n",
       "  <tbody>\n",
       "    <tr>\n",
       "      <th>count</th>\n",
       "      <td>1495.000000</td>\n",
       "    </tr>\n",
       "    <tr>\n",
       "      <th>mean</th>\n",
       "      <td>0.914075</td>\n",
       "    </tr>\n",
       "    <tr>\n",
       "      <th>std</th>\n",
       "      <td>0.049119</td>\n",
       "    </tr>\n",
       "    <tr>\n",
       "      <th>min</th>\n",
       "      <td>0.772852</td>\n",
       "    </tr>\n",
       "    <tr>\n",
       "      <th>25%</th>\n",
       "      <td>0.888206</td>\n",
       "    </tr>\n",
       "    <tr>\n",
       "      <th>50%</th>\n",
       "      <td>0.916842</td>\n",
       "    </tr>\n",
       "    <tr>\n",
       "      <th>75%</th>\n",
       "      <td>0.938889</td>\n",
       "    </tr>\n",
       "    <tr>\n",
       "      <th>max</th>\n",
       "      <td>1.050100</td>\n",
       "    </tr>\n",
       "  </tbody>\n",
       "</table>\n",
       "</div>"
      ],
      "text/plain": [
       "          FPhe_RMT\n",
       "count  1495.000000\n",
       "mean      0.914075\n",
       "std       0.049119\n",
       "min       0.772852\n",
       "25%       0.888206\n",
       "50%       0.916842\n",
       "75%       0.938889\n",
       "max       1.050100"
      ]
     },
     "execution_count": 6,
     "metadata": {},
     "output_type": "execute_result"
    }
   ],
   "source": [
    "y = pd.DataFrame(data['FPhe_RMT'])\n",
    "y.describe()"
   ]
  },
  {
   "cell_type": "markdown",
   "metadata": {},
   "source": [
    "### Split Data into Training and Test Sets"
   ]
  },
  {
   "cell_type": "code",
   "execution_count": 7,
   "metadata": {},
   "outputs": [
    {
     "name": "stdout",
     "output_type": "stream",
     "text": [
      "(1046, 4) (449, 4) (1046, 1) (449, 1)\n"
     ]
    }
   ],
   "source": [
    "from sklearn.model_selection import train_test_split\n",
    "\n",
    "random_seed = 42 # consistent integer to set random_state\n",
    "\n",
    "X_train, X_test, y_train, y_test = train_test_split(X, y, test_size=0.3, random_state=random_seed)\n",
    "print(X_train.shape, X_test.shape, y_train.shape, y_test.shape)"
   ]
  },
  {
   "cell_type": "markdown",
   "metadata": {},
   "source": [
    "### Preprocess the data for analysis"
   ]
  },
  {
   "cell_type": "code",
   "execution_count": 8,
   "metadata": {},
   "outputs": [
    {
     "data": {
      "text/html": [
       "<div>\n",
       "<style scoped>\n",
       "    .dataframe tbody tr th:only-of-type {\n",
       "        vertical-align: middle;\n",
       "    }\n",
       "\n",
       "    .dataframe tbody tr th {\n",
       "        vertical-align: top;\n",
       "    }\n",
       "\n",
       "    .dataframe thead th {\n",
       "        text-align: right;\n",
       "    }\n",
       "</style>\n",
       "<table border=\"1\" class=\"dataframe\">\n",
       "  <thead>\n",
       "    <tr style=\"text-align: right;\">\n",
       "      <th></th>\n",
       "      <th>m/z</th>\n",
       "      <th>pKa</th>\n",
       "      <th>logP</th>\n",
       "      <th>Van der Waals volume</th>\n",
       "    </tr>\n",
       "  </thead>\n",
       "  <tbody>\n",
       "    <tr>\n",
       "      <th>count</th>\n",
       "      <td>1.046000e+03</td>\n",
       "      <td>1.046000e+03</td>\n",
       "      <td>1.046000e+03</td>\n",
       "      <td>1.046000e+03</td>\n",
       "    </tr>\n",
       "    <tr>\n",
       "      <th>mean</th>\n",
       "      <td>-1.062248e-15</td>\n",
       "      <td>7.217511e-18</td>\n",
       "      <td>4.755066e-17</td>\n",
       "      <td>-1.077804e-15</td>\n",
       "    </tr>\n",
       "    <tr>\n",
       "      <th>std</th>\n",
       "      <td>1.000478e+00</td>\n",
       "      <td>1.000478e+00</td>\n",
       "      <td>1.000478e+00</td>\n",
       "      <td>1.000478e+00</td>\n",
       "    </tr>\n",
       "    <tr>\n",
       "      <th>min</th>\n",
       "      <td>-2.448824e+00</td>\n",
       "      <td>-2.465132e+00</td>\n",
       "      <td>-2.483220e+00</td>\n",
       "      <td>-2.332043e+00</td>\n",
       "    </tr>\n",
       "    <tr>\n",
       "      <th>25%</th>\n",
       "      <td>-6.708792e-01</td>\n",
       "      <td>-1.798782e-01</td>\n",
       "      <td>-6.516023e-01</td>\n",
       "      <td>-5.013126e-01</td>\n",
       "    </tr>\n",
       "    <tr>\n",
       "      <th>50%</th>\n",
       "      <td>1.357590e-01</td>\n",
       "      <td>3.193487e-01</td>\n",
       "      <td>3.687799e-02</td>\n",
       "      <td>1.427800e-01</td>\n",
       "    </tr>\n",
       "    <tr>\n",
       "      <th>75%</th>\n",
       "      <td>6.141599e-01</td>\n",
       "      <td>5.883287e-01</td>\n",
       "      <td>8.650029e-01</td>\n",
       "      <td>5.699780e-01</td>\n",
       "    </tr>\n",
       "    <tr>\n",
       "      <th>max</th>\n",
       "      <td>2.283845e+00</td>\n",
       "      <td>2.324863e+00</td>\n",
       "      <td>1.647662e+00</td>\n",
       "      <td>2.440668e+00</td>\n",
       "    </tr>\n",
       "  </tbody>\n",
       "</table>\n",
       "</div>"
      ],
      "text/plain": [
       "                m/z           pKa          logP  Van der Waals volume\n",
       "count  1.046000e+03  1.046000e+03  1.046000e+03          1.046000e+03\n",
       "mean  -1.062248e-15  7.217511e-18  4.755066e-17         -1.077804e-15\n",
       "std    1.000478e+00  1.000478e+00  1.000478e+00          1.000478e+00\n",
       "min   -2.448824e+00 -2.465132e+00 -2.483220e+00         -2.332043e+00\n",
       "25%   -6.708792e-01 -1.798782e-01 -6.516023e-01         -5.013126e-01\n",
       "50%    1.357590e-01  3.193487e-01  3.687799e-02          1.427800e-01\n",
       "75%    6.141599e-01  5.883287e-01  8.650029e-01          5.699780e-01\n",
       "max    2.283845e+00  2.324863e+00  1.647662e+00          2.440668e+00"
      ]
     },
     "execution_count": 8,
     "metadata": {},
     "output_type": "execute_result"
    }
   ],
   "source": [
    "from sklearn.preprocessing import StandardScaler\n",
    "\n",
    "# remove the mean and scale to unit variance\n",
    "scaler = StandardScaler()\n",
    "X_train_standardized = scaler.fit_transform(X_train)\n",
    "X_test_standardized = scaler.transform(X_test)\n",
    "\n",
    "pd.DataFrame(data = X_train_standardized, columns = X_train.columns).describe()"
   ]
  },
  {
   "cell_type": "markdown",
   "metadata": {},
   "source": [
    "## Evaluate Linear Regression"
   ]
  },
  {
   "cell_type": "code",
   "execution_count": 9,
   "metadata": {},
   "outputs": [
    {
     "name": "stdout",
     "output_type": "stream",
     "text": [
      "[[ 0.01396473 -0.00749949 -0.01360099  0.02622007]] [0.91455164]\n"
     ]
    }
   ],
   "source": [
    "from sklearn.linear_model import LinearRegression\n",
    "\n",
    "reg = LinearRegression().fit(X_train_standardized, y_train)\n",
    "print(reg.coef_, reg.intercept_)"
   ]
  },
  {
   "cell_type": "code",
   "execution_count": 10,
   "metadata": {},
   "outputs": [
    {
     "data": {
      "text/plain": [
       "0.5279496969092903"
      ]
     },
     "execution_count": 10,
     "metadata": {},
     "output_type": "execute_result"
    }
   ],
   "source": [
    "reg.score(X_train_standardized, y_train) #R^2 value"
   ]
  },
  {
   "cell_type": "markdown",
   "metadata": {},
   "source": [
    "Simple multi-variate linear regression provided a 52.8% accuracy on training set."
   ]
  },
  {
   "cell_type": "code",
   "execution_count": 11,
   "metadata": {},
   "outputs": [
    {
     "data": {
      "text/plain": [
       "0.6134844763152294"
      ]
     },
     "execution_count": 11,
     "metadata": {},
     "output_type": "execute_result"
    }
   ],
   "source": [
    "reg.score(X_test_standardized, y_test)"
   ]
  },
  {
   "cell_type": "markdown",
   "metadata": {},
   "source": [
    "Simple multi-variate linear regression provided a 61.3% accuracy on test set."
   ]
  },
  {
   "cell_type": "markdown",
   "metadata": {},
   "source": [
    "## Proposed Machine Learning Models"
   ]
  },
  {
   "cell_type": "markdown",
   "metadata": {},
   "source": [
    "### Regression to forecast `FPhe_RMT`\n",
    "* SGDRegressor\n",
    "* RandomForestRegressor\n",
    "* KNeighborsRegressor"
   ]
  },
  {
   "cell_type": "markdown",
   "metadata": {},
   "source": [
    "### Testing SGDRegressor"
   ]
  },
  {
   "cell_type": "code",
   "execution_count": 12,
   "metadata": {},
   "outputs": [
    {
     "data": {
      "text/plain": [
       "SGDRegressor(alpha=0.0001, average=False, epsilon=0.1, eta0=0.01,\n",
       "       fit_intercept=True, l1_ratio=0.15, learning_rate='invscaling',\n",
       "       loss='squared_loss', max_iter=1000, n_iter=None, penalty='l2',\n",
       "       power_t=0.25, random_state=42, shuffle=True, tol=None, verbose=0,\n",
       "       warm_start=False)"
      ]
     },
     "execution_count": 12,
     "metadata": {},
     "output_type": "execute_result"
    }
   ],
   "source": [
    "import numpy as np\n",
    "from sklearn import linear_model\n",
    "\n",
    "sgdreg = linear_model.SGDRegressor(max_iter=1000, random_state=random_seed)\n",
    "sgdreg.fit(X_train_standardized, y_train.values.ravel())"
   ]
  },
  {
   "cell_type": "code",
   "execution_count": 13,
   "metadata": {},
   "outputs": [
    {
     "data": {
      "text/plain": [
       "0.5279487126828264"
      ]
     },
     "execution_count": 13,
     "metadata": {},
     "output_type": "execute_result"
    }
   ],
   "source": [
    "sgdreg.score(X_train_standardized, y_train)"
   ]
  },
  {
   "cell_type": "markdown",
   "metadata": {},
   "source": [
    "SGDRegressor provided 52.8% accuracy on the training set which is in line with linear regression."
   ]
  },
  {
   "cell_type": "code",
   "execution_count": 14,
   "metadata": {},
   "outputs": [
    {
     "data": {
      "text/plain": [
       "0.6135730105490877"
      ]
     },
     "execution_count": 14,
     "metadata": {},
     "output_type": "execute_result"
    }
   ],
   "source": [
    "sgdreg.score(X_test_standardized, y_test)"
   ]
  },
  {
   "cell_type": "markdown",
   "metadata": {},
   "source": [
    "SGDRegressor provided 61.4% accuracy on the test set which is directly in line with linear regression."
   ]
  },
  {
   "cell_type": "markdown",
   "metadata": {},
   "source": [
    "### Testing RandomForestRegressor"
   ]
  },
  {
   "cell_type": "code",
   "execution_count": 15,
   "metadata": {},
   "outputs": [
    {
     "data": {
      "text/plain": [
       "RandomForestRegressor(bootstrap=True, criterion='mse', max_depth=8,\n",
       "           max_features='auto', max_leaf_nodes=None,\n",
       "           min_impurity_decrease=0.0, min_impurity_split=None,\n",
       "           min_samples_leaf=1, min_samples_split=2,\n",
       "           min_weight_fraction_leaf=0.0, n_estimators=10, n_jobs=1,\n",
       "           oob_score=False, random_state=42, verbose=0, warm_start=False)"
      ]
     },
     "execution_count": 15,
     "metadata": {},
     "output_type": "execute_result"
    }
   ],
   "source": [
    "from sklearn.ensemble import RandomForestRegressor\n",
    "\n",
    "rfreg = RandomForestRegressor(random_state=random_seed, max_depth=8, n_estimators=10)\n",
    "rfreg.fit(X_train_standardized, y_train.values.ravel())"
   ]
  },
  {
   "cell_type": "code",
   "execution_count": 16,
   "metadata": {},
   "outputs": [
    {
     "data": {
      "text/plain": [
       "0.9852760911092715"
      ]
     },
     "execution_count": 16,
     "metadata": {},
     "output_type": "execute_result"
    }
   ],
   "source": [
    "rfreg.score(X_train_standardized, y_train)"
   ]
  },
  {
   "cell_type": "markdown",
   "metadata": {},
   "source": [
    "RandomForestRegressor provided a 98.5% accuracy on training set, which is a substantial improvement compared to linear regression."
   ]
  },
  {
   "cell_type": "code",
   "execution_count": 17,
   "metadata": {},
   "outputs": [
    {
     "data": {
      "text/plain": [
       "0.9844657866738478"
      ]
     },
     "execution_count": 17,
     "metadata": {},
     "output_type": "execute_result"
    }
   ],
   "source": [
    "rfreg.score(X_test_standardized, y_test)"
   ]
  },
  {
   "cell_type": "markdown",
   "metadata": {},
   "source": [
    "RandomForestRegressor provided a 98.4% accuracy on test set, which is a substantial improvement compared to linear regression."
   ]
  },
  {
   "cell_type": "markdown",
   "metadata": {},
   "source": [
    "Let's try to do some hyperparameter tuning..."
   ]
  },
  {
   "cell_type": "code",
   "execution_count": 18,
   "metadata": {},
   "outputs": [],
   "source": [
    "param_grid = { \n",
    "    'n_estimators': [int(x) for x in np.linspace(start = 100, stop = 2000, num = 10)],\n",
    "    'max_features': ['auto', 'sqrt'],\n",
    "    'max_depth' : [3,4,5,6,7,8],\n",
    "    'criterion' :['mse', 'mae']\n",
    "}"
   ]
  },
  {
   "cell_type": "code",
   "execution_count": 19,
   "metadata": {},
   "outputs": [
    {
     "name": "stdout",
     "output_type": "stream",
     "text": [
      "[INFO] randomized search took 535.28 seconds\n"
     ]
    }
   ],
   "source": [
    "from sklearn.model_selection import RandomizedSearchCV\n",
    "import time\n",
    "\n",
    "start = time.time()\n",
    "n_iter_search = 40\n",
    "\n",
    "CV_rfc = RandomizedSearchCV(rfreg, param_grid, n_iter=n_iter_search, cv=5)\n",
    "CV_rfc.fit(X_train_standardized, y_train.values.ravel())\n",
    "\n",
    "print(\"[INFO] randomized search took {:.2f} seconds\".format(time.time() - start))"
   ]
  },
  {
   "cell_type": "code",
   "execution_count": 20,
   "metadata": {},
   "outputs": [
    {
     "name": "stdout",
     "output_type": "stream",
     "text": [
      "[INFO] grid search accuracy: 98.47%\n",
      "[INFO] grid search best parameters: {'n_estimators': 2000, 'max_features': 'auto', 'criterion': 'mse', 'max_depth': 8}\n"
     ]
    }
   ],
   "source": [
    "# CV_rfc.best_params_\n",
    "acc = CV_rfc.score(X_test_standardized, y_test)\n",
    "print(\"[INFO] grid search accuracy: {:.2f}%\".format(acc * 100))\n",
    "print(\"[INFO] grid search best parameters: {}\".format(CV_rfc.best_params_))"
   ]
  },
  {
   "cell_type": "code",
   "execution_count": 21,
   "metadata": {},
   "outputs": [],
   "source": [
    "rfc_best = RandomForestRegressor(random_state=random_seed, \n",
    "                                 n_estimators= 1050, \n",
    "                                 max_features='sqrt',\n",
    "                                 max_depth=8, \n",
    "                                 criterion='mse')"
   ]
  },
  {
   "cell_type": "code",
   "execution_count": 22,
   "metadata": {},
   "outputs": [
    {
     "data": {
      "text/plain": [
       "RandomForestRegressor(bootstrap=True, criterion='mse', max_depth=8,\n",
       "           max_features='sqrt', max_leaf_nodes=None,\n",
       "           min_impurity_decrease=0.0, min_impurity_split=None,\n",
       "           min_samples_leaf=1, min_samples_split=2,\n",
       "           min_weight_fraction_leaf=0.0, n_estimators=1050, n_jobs=1,\n",
       "           oob_score=False, random_state=42, verbose=0, warm_start=False)"
      ]
     },
     "execution_count": 22,
     "metadata": {},
     "output_type": "execute_result"
    }
   ],
   "source": [
    "rfc_best.fit(X_train_standardized, y_train.values.ravel())"
   ]
  },
  {
   "cell_type": "code",
   "execution_count": 23,
   "metadata": {},
   "outputs": [
    {
     "data": {
      "text/plain": [
       "0.9860813897621115"
      ]
     },
     "execution_count": 23,
     "metadata": {},
     "output_type": "execute_result"
    }
   ],
   "source": [
    "rfc_best.score(X_test_standardized, y_test)"
   ]
  },
  {
   "cell_type": "markdown",
   "metadata": {},
   "source": [
    "With some hyperparameter tuning from a RandomizedSearch, accuracy was improved slightly to 98.6% on the test set."
   ]
  },
  {
   "cell_type": "markdown",
   "metadata": {},
   "source": [
    "Let's investigate what features are the most important to the accuracy of this model."
   ]
  },
  {
   "cell_type": "code",
   "execution_count": 24,
   "metadata": {},
   "outputs": [
    {
     "data": {
      "text/plain": [
       "m/z                     0.401511\n",
       "Van der Waals volume    0.303002\n",
       "logP                    0.187124\n",
       "pKa                     0.108363\n",
       "dtype: float64"
      ]
     },
     "execution_count": 24,
     "metadata": {},
     "output_type": "execute_result"
    }
   ],
   "source": [
    "feature_imp = pd.Series(rfc_best.feature_importances_,index=list(X.columns.values)).sort_values(ascending=False)\n",
    "feature_imp"
   ]
  },
  {
   "cell_type": "code",
   "execution_count": 25,
   "metadata": {},
   "outputs": [
    {
     "data": {
      "image/png": "[encoded data removed]",
      "text/plain": [
       "<Figure size 432x288 with 1 Axes>"
      ]
     },
     "metadata": {},
     "output_type": "display_data"
    }
   ],
   "source": [
    "import matplotlib.pyplot as plt\n",
    "import seaborn as sns\n",
    "%matplotlib inline\n",
    "# Creating a bar plot\n",
    "sns.barplot(x=feature_imp, y=feature_imp.index)\n",
    "# Add labels to your graph\n",
    "plt.xlabel('Feature Importance Score')\n",
    "plt.ylabel('Features')\n",
    "plt.title(\"Visualizing Important Features\")\n",
    "plt.show()"
   ]
  },
  {
   "cell_type": "markdown",
   "metadata": {},
   "source": [
    "In normal situations, it might be worth removing `pKa` as a feature as a means to improve the accuracy score of the model. However, we will leave this as a future consideration since the current accuracy score is nearing 100% and there is an underlying theoretical importance to the impact of the feature on the data."
   ]
  },
  {
   "cell_type": "markdown",
   "metadata": {},
   "source": [
    "#### Visualizing a Single Decision Tree"
   ]
  },
  {
   "cell_type": "code",
   "execution_count": 26,
   "metadata": {},
   "outputs": [],
   "source": [
    "import os\n",
    "os.environ[\"PATH\"] += os.pathsep + 'C:/Users/Seroclinix/Downloads/graphviz-2.38/release/bin'"
   ]
  },
  {
   "cell_type": "code",
   "execution_count": 27,
   "metadata": {},
   "outputs": [],
   "source": [
    "# Import tools needed for visualization\n",
    "from sklearn.tree import export_graphviz\n",
    "import pydot\n",
    "\n",
    "# Pull out one tree from the forest\n",
    "tree = rfc_best.estimators_[5]\n",
    "\n",
    "# Export the image to a dot file\n",
    "export_graphviz(tree, out_file = 'tree.dot', feature_names = list(X.columns.values), rounded = True, precision = 1)\n",
    "\n",
    "# Use dot file to create a graph\n",
    "(graph, ) = pydot.graph_from_dot_file('tree.dot')\n",
    "\n",
    "# Write graph to a png file\n",
    "graph.write_png('tree.png')"
   ]
  },
  {
   "cell_type": "markdown",
   "metadata": {},
   "source": [
    "![tree](./figures/tree.png)\n",
    "\n",
    "Looks good! This is an intuitive look under the hood of one of the trees in the forest. We can see the variable and value to split the Node on with the mean squared error of the Node. Further, we also can see how many data points are in the Node and the prediction for all data points in the Node. Then we have our Leaf Nodes at the bottom."
   ]
  },
  {
   "cell_type": "markdown",
   "metadata": {},
   "source": [
    "Random Forests appears to be a highly accurate model in predicting migration time."
   ]
  },
  {
   "cell_type": "markdown",
   "metadata": {},
   "source": [
    "### Testing KNN"
   ]
  },
  {
   "cell_type": "code",
   "execution_count": 28,
   "metadata": {},
   "outputs": [
    {
     "data": {
      "text/plain": [
       "KNeighborsRegressor(algorithm='auto', leaf_size=30, metric='minkowski',\n",
       "          metric_params=None, n_jobs=1, n_neighbors=23, p=2,\n",
       "          weights='uniform')"
      ]
     },
     "execution_count": 28,
     "metadata": {},
     "output_type": "execute_result"
    }
   ],
   "source": [
    "#Testing KNeighborsRegressor\n",
    "from sklearn.neighbors import KNeighborsRegressor\n",
    "\n",
    "KNreg = KNeighborsRegressor(n_neighbors=23)\n",
    "KNreg.fit(X_train_standardized, y_train.values.ravel())"
   ]
  },
  {
   "cell_type": "code",
   "execution_count": 29,
   "metadata": {},
   "outputs": [
    {
     "data": {
      "text/plain": [
       "0.9695800010246135"
      ]
     },
     "execution_count": 29,
     "metadata": {},
     "output_type": "execute_result"
    }
   ],
   "source": [
    "KNreg.score(X_train_standardized, y_train)"
   ]
  },
  {
   "cell_type": "markdown",
   "metadata": {},
   "source": [
    "KNeighborsRegressor provided a 96.95% accuracy on training set, which is drastically improved from 60-70% observed in linear methods."
   ]
  },
  {
   "cell_type": "code",
   "execution_count": 30,
   "metadata": {},
   "outputs": [
    {
     "data": {
      "text/plain": [
       "0.9665064889496633"
      ]
     },
     "execution_count": 30,
     "metadata": {},
     "output_type": "execute_result"
    }
   ],
   "source": [
    "KNreg.score(X_test_standardized, y_test)"
   ]
  },
  {
   "cell_type": "markdown",
   "metadata": {},
   "source": [
    "KNeighborsRegressor provided a 96.65% accuracy on training set, which is drastically improved from 60-70% observed in linear methods."
   ]
  },
  {
   "cell_type": "markdown",
   "metadata": {},
   "source": [
    "Let's make sure we're not overfitting."
   ]
  },
  {
   "cell_type": "code",
   "execution_count": 31,
   "metadata": {},
   "outputs": [],
   "source": [
    "#import required packages\n",
    "from sklearn import neighbors\n",
    "from sklearn.metrics import mean_squared_error \n",
    "from math import sqrt\n",
    "import matplotlib.pyplot as plt\n",
    "%matplotlib inline"
   ]
  },
  {
   "cell_type": "markdown",
   "metadata": {},
   "source": [
    "Using CV to test bias vs variance trade-off"
   ]
  },
  {
   "cell_type": "code",
   "execution_count": 32,
   "metadata": {},
   "outputs": [],
   "source": [
    "# rmse_val = [] #to store rmse values for different k\n",
    "variance_val = []\n",
    "bias_val = []\n",
    "k_val = []\n",
    "train_scores = []\n",
    "test_scores = []\n",
    "\n",
    "from sklearn.model_selection import cross_val_score\n",
    "\n",
    "for K in range(0,50):\n",
    "    K = K+1\n",
    "    model = neighbors.KNeighborsRegressor(n_neighbors = K)\n",
    "    k_val.append(K)\n",
    "    \n",
    "    model.fit(X_train_standardized, y_train)  #fit the model\n",
    "    pred=model.predict(X_test_standardized) #make prediction on test set\n",
    "    error = sqrt(mean_squared_error(y_test, pred)) #calculate rmse\n",
    "\n",
    "#     rmse_val.append(error) #store rmse values\n",
    "    variance_val.append(error**2)\n",
    "    \n",
    "    bias = np.sum(np.subtract(y_test, pred))\n",
    "    bias_val.append(bias**2)\n",
    "    \n",
    "    train_score = cross_val_score(model, X_train_standardized, y_train, cv=3)\n",
    "    train_scores.append(train_score.mean())\n",
    "\n",
    "    test_score = model.score(X_test_standardized, y_test)\n",
    "    test_scores.append(test_score.mean())\n",
    "\n",
    "    \n",
    "#     print('For k =', K , ' Variance:', error**2, ' Bias:', bias)"
   ]
  },
  {
   "cell_type": "code",
   "execution_count": 33,
   "metadata": {},
   "outputs": [
    {
     "data": {
      "image/png": "[encoded data removed]",
      "text/plain": [
       "<Figure size 432x288 with 2 Axes>"
      ]
     },
     "metadata": {},
     "output_type": "display_data"
    }
   ],
   "source": [
    "#plotting the rmse values against k values\n",
    "\n",
    "fig, ax1 = plt.subplots()\n",
    "\n",
    "ax1.plot(k_val, variance_val, 'b-')\n",
    "ax1.set_ylim([0.000,np.max(variance_val)*1.05])\n",
    "ax1.set_ylabel('variance', color='b')\n",
    "ax1.set_xlabel('K-Neighbors')\n",
    "\n",
    "ax2 = ax1.twinx()\n",
    "ax2.plot(k_val, bias_val, 'r-')\n",
    "ax2.set_ylim([np.min(bias_val), np.max(bias_val)*1.05])\n",
    "ax2.set_ylabel('bias**2', color='r')\n",
    "\n",
    "fig.tight_layout()\n",
    "plt.show()"
   ]
  },
  {
   "cell_type": "code",
   "execution_count": 34,
   "metadata": {},
   "outputs": [
    {
     "data": {
      "image/png": "[encoded data removed]",
      "text/plain": [
       "<Figure size 432x288 with 2 Axes>"
      ]
     },
     "metadata": {},
     "output_type": "display_data"
    }
   ],
   "source": [
    "#plotting the train and test scores versus k values\n",
    "\n",
    "fig, ax1 = plt.subplots()\n",
    "\n",
    "ax1.plot(k_val, train_scores, 'b-')\n",
    "ax1.set_ylim([0.5,1.0])\n",
    "ax1.set_ylabel('train_scores', color='b')\n",
    "ax1.set_xlabel('K-Neighbors')\n",
    "\n",
    "ax2 = ax1.twinx()\n",
    "ax2.plot(k_val, test_scores, 'r-')\n",
    "ax2.set_ylim(0.5, 1.0)\n",
    "ax2.set_ylabel('test_scores', color='r')\n",
    "\n",
    "fig.tight_layout()\n",
    "plt.show()"
   ]
  },
  {
   "cell_type": "code",
   "execution_count": 35,
   "metadata": {},
   "outputs": [
    {
     "data": {
      "text/plain": [
       "array([0.90899637, 0.78855098, 0.88584238])"
      ]
     },
     "execution_count": 35,
     "metadata": {},
     "output_type": "execute_result"
    }
   ],
   "source": [
    "from sklearn.model_selection import cross_val_score\n",
    "\n",
    "KNreg = KNeighborsRegressor(n_neighbors=20)\n",
    "KNreg.fit(X_train_standardized, y_train.values.ravel())\n",
    "\n",
    "scores = cross_val_score(KNreg, X_train_standardized, y_train, cv=3)\n",
    "scores "
   ]
  },
  {
   "cell_type": "code",
   "execution_count": 36,
   "metadata": {},
   "outputs": [
    {
     "name": "stdout",
     "output_type": "stream",
     "text": [
      "Accuracy: 0.861 (+/- 0.104)\n"
     ]
    }
   ],
   "source": [
    "print(\"Accuracy: %0.3f (+/- %0.3f)\" % (scores.mean(), scores.std() * 2))"
   ]
  },
  {
   "cell_type": "code",
   "execution_count": 37,
   "metadata": {},
   "outputs": [
    {
     "data": {
      "text/plain": [
       "0.9826210907713899"
      ]
     },
     "execution_count": 37,
     "metadata": {},
     "output_type": "execute_result"
    }
   ],
   "source": [
    "testscores = KNreg.score(X_test_standardized, y_test)\n",
    "testscores "
   ]
  },
  {
   "cell_type": "markdown",
   "metadata": {},
   "source": [
    "Due to the relatively small size of the data, extensive cross-validation cannot be completed. However, a 3-fold cross validation yielded 86% accuracy with the test set performing at 98.2% accuracy. These scores also factor in that bias and variance is minimized in the model's predictions."
   ]
  },
  {
   "cell_type": "markdown",
   "metadata": {},
   "source": [
    "## Classification of Drug Class\n",
    "\n",
    "* K-Neast Neighbors\n",
    "* Random Forest"
   ]
  },
  {
   "cell_type": "markdown",
   "metadata": {},
   "source": [
    "### Preparing the Data"
   ]
  },
  {
   "cell_type": "code",
   "execution_count": 39,
   "metadata": {},
   "outputs": [
    {
     "data": {
      "text/html": [
       "<div>\n",
       "<style scoped>\n",
       "    .dataframe tbody tr th:only-of-type {\n",
       "        vertical-align: middle;\n",
       "    }\n",
       "\n",
       "    .dataframe tbody tr th {\n",
       "        vertical-align: top;\n",
       "    }\n",
       "\n",
       "    .dataframe thead th {\n",
       "        text-align: right;\n",
       "    }\n",
       "</style>\n",
       "<table border=\"1\" class=\"dataframe\">\n",
       "  <thead>\n",
       "    <tr style=\"text-align: right;\">\n",
       "      <th></th>\n",
       "      <th>Drug Class</th>\n",
       "    </tr>\n",
       "  </thead>\n",
       "  <tbody>\n",
       "    <tr>\n",
       "      <th>0</th>\n",
       "      <td>Internal Standard</td>\n",
       "    </tr>\n",
       "    <tr>\n",
       "      <th>1</th>\n",
       "      <td>Other</td>\n",
       "    </tr>\n",
       "    <tr>\n",
       "      <th>2</th>\n",
       "      <td>Other</td>\n",
       "    </tr>\n",
       "    <tr>\n",
       "      <th>3</th>\n",
       "      <td>Amphetamine</td>\n",
       "    </tr>\n",
       "    <tr>\n",
       "      <th>4</th>\n",
       "      <td>Internal Standard</td>\n",
       "    </tr>\n",
       "  </tbody>\n",
       "</table>\n",
       "</div>"
      ],
      "text/plain": [
       "          Drug Class\n",
       "0  Internal Standard\n",
       "1              Other\n",
       "2              Other\n",
       "3        Amphetamine\n",
       "4  Internal Standard"
      ]
     },
     "execution_count": 39,
     "metadata": {},
     "output_type": "execute_result"
    }
   ],
   "source": [
    "X = data[['m/z', 'pKa','logP', 'Van der Waals volume']] \n",
    "y_class = pd.DataFrame(data['Drug Class'])\n",
    "y_class.head()"
   ]
  },
  {
   "cell_type": "code",
   "execution_count": 40,
   "metadata": {},
   "outputs": [
    {
     "data": {
      "text/plain": [
       "array(['Amphetamine', 'Anesthetic', 'Antidepressants',\n",
       "       'Internal Standard', 'Opioid', 'Other', 'Sedative', 'Stimulant'],\n",
       "      dtype='<U17')"
      ]
     },
     "execution_count": 40,
     "metadata": {},
     "output_type": "execute_result"
    }
   ],
   "source": [
    "# Create categories for y variable\n",
    "\n",
    "from sklearn import preprocessing\n",
    "\n",
    "lb = preprocessing.LabelBinarizer()\n",
    "y_lb = lb.fit_transform(y_class)\n",
    "lb.classes_"
   ]
  },
  {
   "cell_type": "code",
   "execution_count": 41,
   "metadata": {},
   "outputs": [
    {
     "data": {
      "text/html": [
       "<div>\n",
       "<style scoped>\n",
       "    .dataframe tbody tr th:only-of-type {\n",
       "        vertical-align: middle;\n",
       "    }\n",
       "\n",
       "    .dataframe tbody tr th {\n",
       "        vertical-align: top;\n",
       "    }\n",
       "\n",
       "    .dataframe thead th {\n",
       "        text-align: right;\n",
       "    }\n",
       "</style>\n",
       "<table border=\"1\" class=\"dataframe\">\n",
       "  <thead>\n",
       "    <tr style=\"text-align: right;\">\n",
       "      <th></th>\n",
       "      <th>Amphetamine</th>\n",
       "      <th>Anesthetic</th>\n",
       "      <th>Antidepressants</th>\n",
       "      <th>Internal Standard</th>\n",
       "      <th>Opioid</th>\n",
       "      <th>Other</th>\n",
       "      <th>Sedative</th>\n",
       "      <th>Stimulant</th>\n",
       "    </tr>\n",
       "  </thead>\n",
       "  <tbody>\n",
       "    <tr>\n",
       "      <th>0</th>\n",
       "      <td>0</td>\n",
       "      <td>0</td>\n",
       "      <td>0</td>\n",
       "      <td>1</td>\n",
       "      <td>0</td>\n",
       "      <td>0</td>\n",
       "      <td>0</td>\n",
       "      <td>0</td>\n",
       "    </tr>\n",
       "    <tr>\n",
       "      <th>1</th>\n",
       "      <td>0</td>\n",
       "      <td>0</td>\n",
       "      <td>0</td>\n",
       "      <td>0</td>\n",
       "      <td>0</td>\n",
       "      <td>1</td>\n",
       "      <td>0</td>\n",
       "      <td>0</td>\n",
       "    </tr>\n",
       "    <tr>\n",
       "      <th>2</th>\n",
       "      <td>0</td>\n",
       "      <td>0</td>\n",
       "      <td>0</td>\n",
       "      <td>0</td>\n",
       "      <td>0</td>\n",
       "      <td>1</td>\n",
       "      <td>0</td>\n",
       "      <td>0</td>\n",
       "    </tr>\n",
       "    <tr>\n",
       "      <th>3</th>\n",
       "      <td>1</td>\n",
       "      <td>0</td>\n",
       "      <td>0</td>\n",
       "      <td>0</td>\n",
       "      <td>0</td>\n",
       "      <td>0</td>\n",
       "      <td>0</td>\n",
       "      <td>0</td>\n",
       "    </tr>\n",
       "    <tr>\n",
       "      <th>4</th>\n",
       "      <td>0</td>\n",
       "      <td>0</td>\n",
       "      <td>0</td>\n",
       "      <td>1</td>\n",
       "      <td>0</td>\n",
       "      <td>0</td>\n",
       "      <td>0</td>\n",
       "      <td>0</td>\n",
       "    </tr>\n",
       "  </tbody>\n",
       "</table>\n",
       "</div>"
      ],
      "text/plain": [
       "   Amphetamine  Anesthetic  Antidepressants  Internal Standard  Opioid  Other  \\\n",
       "0            0           0                0                  1       0      0   \n",
       "1            0           0                0                  0       0      1   \n",
       "2            0           0                0                  0       0      1   \n",
       "3            1           0                0                  0       0      0   \n",
       "4            0           0                0                  1       0      0   \n",
       "\n",
       "   Sedative  Stimulant  \n",
       "0         0          0  \n",
       "1         0          0  \n",
       "2         0          0  \n",
       "3         0          0  \n",
       "4         0          0  "
      ]
     },
     "execution_count": 41,
     "metadata": {},
     "output_type": "execute_result"
    }
   ],
   "source": [
    "y_class_lb = pd.DataFrame(data = y_lb, columns=lb.classes_)\n",
    "y_class_lb.head()"
   ]
  },
  {
   "cell_type": "code",
   "execution_count": 42,
   "metadata": {},
   "outputs": [
    {
     "name": "stdout",
     "output_type": "stream",
     "text": [
      "(1046, 4) (449, 4) (1046, 8) (449, 8)\n"
     ]
    }
   ],
   "source": [
    "X_train, X_test, y_train, y_test = train_test_split(X, y_class_lb, test_size=0.3, random_state=random_seed)\n",
    "print(X_train.shape, X_test.shape, y_train.shape, y_test.shape)"
   ]
  },
  {
   "cell_type": "code",
   "execution_count": 43,
   "metadata": {},
   "outputs": [],
   "source": [
    "X_train_standardized = scaler.fit_transform(X_train)\n",
    "X_test_standardized = scaler.transform(X_test)"
   ]
  },
  {
   "cell_type": "markdown",
   "metadata": {},
   "source": [
    "### KNeighborsClassifier"
   ]
  },
  {
   "cell_type": "code",
   "execution_count": 44,
   "metadata": {},
   "outputs": [
    {
     "data": {
      "text/plain": [
       "KNeighborsClassifier(algorithm='auto', leaf_size=30, metric='minkowski',\n",
       "           metric_params=None, n_jobs=1, n_neighbors=24, p=2,\n",
       "           weights='uniform')"
      ]
     },
     "execution_count": 44,
     "metadata": {},
     "output_type": "execute_result"
    }
   ],
   "source": [
    "from sklearn.neighbors import KNeighborsClassifier\n",
    "knn = KNeighborsClassifier(n_neighbors=20)\n",
    "knn.fit(X_train_standardized, y_train)"
   ]
  },
  {
   "cell_type": "code",
   "execution_count": 45,
   "metadata": {},
   "outputs": [
    {
     "data": {
      "text/plain": [
       "1.0"
      ]
     },
     "execution_count": 45,
     "metadata": {},
     "output_type": "execute_result"
    }
   ],
   "source": [
    "cross_val_score(knn, X_train_standardized, y_train, cv=3)"
   ]
  },
  {
   "cell_type": "code",
   "execution_count": 46,
   "metadata": {},
   "outputs": [
    {
     "data": {
      "text/plain": [
       "1.0"
      ]
     },
     "execution_count": 46,
     "metadata": {},
     "output_type": "execute_result"
    }
   ],
   "source": [
    "knn.score(X_test_standardized, y_test)"
   ]
  },
  {
   "cell_type": "markdown",
   "metadata": {},
   "source": [
    "### RandomForestClassifier"
   ]
  },
  {
   "cell_type": "code",
   "execution_count": 65,
   "metadata": {},
   "outputs": [
    {
     "data": {
      "text/plain": [
       "RandomForestClassifier(bootstrap=True, class_weight=None, criterion='gini',\n",
       "            max_depth=None, max_features='auto', max_leaf_nodes=None,\n",
       "            min_impurity_decrease=0.0, min_impurity_split=None,\n",
       "            min_samples_leaf=1, min_samples_split=2,\n",
       "            min_weight_fraction_leaf=0.0, n_estimators=10, n_jobs=1,\n",
       "            oob_score=False, random_state=42, verbose=0, warm_start=False)"
      ]
     },
     "execution_count": 65,
     "metadata": {},
     "output_type": "execute_result"
    }
   ],
   "source": [
    "from sklearn.ensemble import RandomForestClassifier\n",
    "rf = RandomForestClassifier(random_state=random_seed)\n",
    "rf.fit(X_train_standardized, y_train)"
   ]
  },
  {
   "cell_type": "code",
   "execution_count": 66,
   "metadata": {},
   "outputs": [
    {
     "data": {
      "text/plain": [
       "1.0"
      ]
     },
     "execution_count": 66,
     "metadata": {},
     "output_type": "execute_result"
    }
   ],
   "source": [
    "rfCV = cross_val_score(rf, X_train_standardized, y_train, cv=3)\n",
    "rfCV.mean()"
   ]
  },
  {
   "cell_type": "code",
   "execution_count": 67,
   "metadata": {},
   "outputs": [
    {
     "data": {
      "text/plain": [
       "1.0"
      ]
     },
     "execution_count": 67,
     "metadata": {},
     "output_type": "execute_result"
    }
   ],
   "source": [
    "rf.score(X_test_standardized, y_test)"
   ]
  },
  {
   "cell_type": "markdown",
   "metadata": {},
   "source": [
    "## Conclusion"
   ]
  },
  {
   "cell_type": "markdown",
   "metadata": {},
   "source": [
    "In conclusion, as a proof of concept we show promising results towards all of our goals at the outset of the project. Both `KNeighborsClassifier` and `RandomForestRegressor` yielded promising accuracy in predicting different drug's relative migration time while minimizing overfitting. Linear methods demonstrated accuracy around 60-70% whereas the aforementioned methods achieved accuracy scores on the test sets >95%. Finally, we also are able to classify drug class with these same methods to a high degree of accuracy."
   ]
  }
 ],
 "metadata": {
  "kernelspec": {
   "display_name": "Python 3",
   "language": "python",
   "name": "python3"
  },
  "language_info": {
   "codemirror_mode": {
    "name": "ipython",
    "version": 3
   },
   "file_extension": ".py",
   "mimetype": "text/x-python",
   "name": "python",
   "nbconvert_exporter": "python",
   "pygments_lexer": "ipython3",
   "version": "3.5.5"
  },
  "toc": {
   "base_numbering": 1,
   "nav_menu": {},
   "number_sections": true,
   "sideBar": true,
   "skip_h1_title": false,
   "title_cell": "Table of Contents",
   "title_sidebar": "Contents",
   "toc_cell": false,
   "toc_position": {},
   "toc_section_display": true,
   "toc_window_display": false
  }
 },
 "nbformat": 4,
 "nbformat_minor": 2
}
